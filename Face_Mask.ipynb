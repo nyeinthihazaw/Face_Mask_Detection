{
 "cells": [
  {
   "cell_type": "code",
   "execution_count": 1,
   "metadata": {
    "colab": {
     "base_uri": "https://localhost:8080/"
    },
    "executionInfo": {
     "elapsed": 45005,
     "status": "ok",
     "timestamp": 1656418962679,
     "user": {
      "displayName": "Con_Vision project",
      "userId": "00870930556789176399"
     },
     "user_tz": -390
    },
    "id": "Ife9V5qhEI8Z",
    "outputId": "b948b2df-f79d-484f-a70f-29de003df351"
   },
   "outputs": [],
   "source": [
    "# from google.colab import drive\n",
    "# drive.mount('/content/drive')"
   ]
  },
  {
   "cell_type": "code",
   "execution_count": 2,
   "metadata": {
    "executionInfo": {
     "elapsed": 1386,
     "status": "ok",
     "timestamp": 1656418964056,
     "user": {
      "displayName": "Con_Vision project",
      "userId": "00870930556789176399"
     },
     "user_tz": -390
    },
    "id": "ho8HPQSHERlk"
   },
   "outputs": [],
   "source": [
    "import numpy as np \n",
    "import cv2\n",
    "import matplotlib.pyplot as plt\n",
    "import glob,os "
   ]
  },
  {
   "cell_type": "code",
   "execution_count": 3,
   "metadata": {
    "colab": {
     "base_uri": "https://localhost:8080/",
     "height": 222
    },
    "executionInfo": {
     "elapsed": 6895,
     "status": "ok",
     "timestamp": 1656418970945,
     "user": {
      "displayName": "Con_Vision project",
      "userId": "00870930556789176399"
     },
     "user_tz": -390
    },
    "id": "1uTUA0uCETPg",
    "outputId": "f4a4525a-f78f-4f35-a860-054fc49161aa"
   },
   "outputs": [
    {
     "ename": "error",
     "evalue": "OpenCV(4.6.0) D:\\a\\opencv-python\\opencv-python\\opencv\\modules\\imgproc\\src\\resize.cpp:4052: error: (-215:Assertion failed) !ssize.empty() in function 'cv::resize'\n",
     "output_type": "error",
     "traceback": [
      "\u001b[1;31m---------------------------------------------------------------------------\u001b[0m",
      "\u001b[1;31merror\u001b[0m                                     Traceback (most recent call last)",
      "Input \u001b[1;32mIn [3]\u001b[0m, in \u001b[0;36m<cell line: 3>\u001b[1;34m()\u001b[0m\n\u001b[0;32m      1\u001b[0m test_img \u001b[38;5;241m=\u001b[39m\u001b[38;5;124m'\u001b[39m\u001b[38;5;124m/Face Mask Dataset/Test/WithMask/187.png\u001b[39m\u001b[38;5;124m'\u001b[39m\n\u001b[0;32m      2\u001b[0m img\u001b[38;5;241m=\u001b[39mcv2\u001b[38;5;241m.\u001b[39mimread(test_img,\u001b[38;5;241m0\u001b[39m)\n\u001b[1;32m----> 3\u001b[0m img\u001b[38;5;241m=\u001b[39m\u001b[43mcv2\u001b[49m\u001b[38;5;241;43m.\u001b[39;49m\u001b[43mresize\u001b[49m\u001b[43m(\u001b[49m\u001b[43mimg\u001b[49m\u001b[43m,\u001b[49m\u001b[43m(\u001b[49m\u001b[38;5;241;43m240\u001b[39;49m\u001b[43m,\u001b[49m\u001b[38;5;241;43m240\u001b[39;49m\u001b[43m)\u001b[49m\u001b[43m,\u001b[49m\u001b[43minterpolation\u001b[49m\u001b[38;5;241;43m=\u001b[39;49m\u001b[43mcv2\u001b[49m\u001b[38;5;241;43m.\u001b[39;49m\u001b[43mINTER_AREA\u001b[49m\u001b[43m)\u001b[49m\n\u001b[0;32m      4\u001b[0m img_g\u001b[38;5;241m=\u001b[39mcv2\u001b[38;5;241m.\u001b[39mGaussianBlur(img,(\u001b[38;5;241m3\u001b[39m,\u001b[38;5;241m3\u001b[39m),\u001b[38;5;241m0\u001b[39m,\u001b[38;5;241m0\u001b[39m)\n\u001b[0;32m      5\u001b[0m img_m\u001b[38;5;241m=\u001b[39mcv2\u001b[38;5;241m.\u001b[39mmedianBlur(img,\u001b[38;5;241m3\u001b[39m)\n",
      "\u001b[1;31merror\u001b[0m: OpenCV(4.6.0) D:\\a\\opencv-python\\opencv-python\\opencv\\modules\\imgproc\\src\\resize.cpp:4052: error: (-215:Assertion failed) !ssize.empty() in function 'cv::resize'\n"
     ]
    }
   ],
   "source": [
    "test_img ='/Face Mask Dataset/Test/WithMask/187.png'\n",
    "img=cv2.imread(test_img,0)\n",
    "img=cv2.resize(img,(240,240),interpolation=cv2.INTER_AREA)\n",
    "img_g=cv2.GaussianBlur(img,(3,3),0,0)\n",
    "img_m=cv2.medianBlur(img,3)\n",
    "img_c=cv2.Canny(img_g,50,150)\n",
    "print (img.dtype)\n",
    "print (img.shape)\n",
    "plt.figure\n",
    "plt.subplot(131),plt.imshow(img,cmap='gray')\n",
    "plt.subplot(132),plt.imshow(img_g,cmap='gray')\n",
    "plt.subplot(133),plt.imshow(img_c,cmap='gray')\n"
   ]
  },
  {
   "cell_type": "markdown",
   "metadata": {
    "id": "1Bk3O5pjExJg"
   },
   "source": [
    "Train"
   ]
  },
  {
   "cell_type": "code",
   "execution_count": 4,
   "metadata": {
    "executionInfo": {
     "elapsed": 27,
     "status": "ok",
     "timestamp": 1656418970947,
     "user": {
      "displayName": "Con_Vision project",
      "userId": "00870930556789176399"
     },
     "user_tz": -390
    },
    "id": "q-9gfEVfETNE"
   },
   "outputs": [],
   "source": [
    "X_train=[]\n",
    "Y_train=[]\n",
    "train_pos_path='/content/drive/MyDrive/Face Mask Dataset/Train/WithMask'\n",
    "train_neg_path='/content/drive/MyDrive/Face Mask Dataset/Train/WithoutMask'"
   ]
  },
  {
   "cell_type": "markdown",
   "metadata": {
    "id": "aCunChDFE12G"
   },
   "source": [
    "Validation"
   ]
  },
  {
   "cell_type": "code",
   "execution_count": 5,
   "metadata": {
    "executionInfo": {
     "elapsed": 28,
     "status": "ok",
     "timestamp": 1656418970951,
     "user": {
      "displayName": "Con_Vision project",
      "userId": "00870930556789176399"
     },
     "user_tz": -390
    },
    "id": "c9e7ZuYWETKe"
   },
   "outputs": [],
   "source": [
    "X_val=[]\n",
    "Y_val=[]\n",
    "val_pos_path='/content/drive/MyDrive/Face Mask Dataset/Validation/WithMask'\n",
    "val_neg_path='/content/drive/MyDrive/Face Mask Dataset/Validation/WithoutMask'"
   ]
  },
  {
   "cell_type": "markdown",
   "metadata": {
    "id": "_53cp88fE9vf"
   },
   "source": [
    "Testing"
   ]
  },
  {
   "cell_type": "code",
   "execution_count": 6,
   "metadata": {
    "executionInfo": {
     "elapsed": 33,
     "status": "ok",
     "timestamp": 1656418970958,
     "user": {
      "displayName": "Con_Vision project",
      "userId": "00870930556789176399"
     },
     "user_tz": -390
    },
    "id": "7GCLz714ETH5"
   },
   "outputs": [],
   "source": [
    "X_test=[]\n",
    "Y_test=[]\n",
    "test_pos_path='/content/drive/MyDrive/Face Mask Dataset/Test/WithMask'\n",
    "test_neg_path='/content/drive/MyDrive/Face Mask Dataset/Test/WithoutMask'"
   ]
  },
  {
   "cell_type": "markdown",
   "metadata": {
    "id": "UH1xAscEE_Cz"
   },
   "source": [
    "Train Positive"
   ]
  },
  {
   "cell_type": "code",
   "execution_count": 7,
   "metadata": {
    "executionInfo": {
     "elapsed": 150612,
     "status": "ok",
     "timestamp": 1656419121542,
     "user": {
      "displayName": "Con_Vision project",
      "userId": "00870930556789176399"
     },
     "user_tz": -390
    },
    "id": "e2LTgOjoETDL"
   },
   "outputs": [],
   "source": [
    "for filename in glob.glob(os.path.join(train_pos_path,\"*.png\")):\n",
    "    fd = cv2.imread(filename,0)\n",
    "    fd = cv2.resize(fd,(240,240))\n",
    "    fd=cv2.GaussianBlur(fd,(3,3),0,0)\n",
    "    fd = cv2.Canny(fd,50,150)\n",
    "    fd=fd.flatten()\n",
    "    X_train.append(fd)\n",
    "    Y_train.append(1)"
   ]
  },
  {
   "cell_type": "markdown",
   "metadata": {
    "id": "S9gXAQGGKsUO"
   },
   "source": [
    "Train Negative "
   ]
  },
  {
   "cell_type": "code",
   "execution_count": 8,
   "metadata": {
    "executionInfo": {
     "elapsed": 100974,
     "status": "ok",
     "timestamp": 1656419222499,
     "user": {
      "displayName": "Con_Vision project",
      "userId": "00870930556789176399"
     },
     "user_tz": -390
    },
    "id": "89JUdw-_ES0j"
   },
   "outputs": [],
   "source": [
    "for filename in glob.glob(os.path.join(train_neg_path,\"*.png\")):\n",
    "    fd = cv2.imread(filename,0)\n",
    "    fd = cv2.resize(fd,(240,240))\n",
    "    fd=cv2.GaussianBlur(fd,(3,3),0,0)\n",
    "    fd = cv2.Canny(fd,50,150)\n",
    "    fd=fd.flatten()\n",
    "    X_train.append(fd)\n",
    "    Y_train.append(0)"
   ]
  },
  {
   "cell_type": "code",
   "execution_count": 9,
   "metadata": {
    "executionInfo": {
     "elapsed": 574,
     "status": "ok",
     "timestamp": 1656419223049,
     "user": {
      "displayName": "Con_Vision project",
      "userId": "00870930556789176399"
     },
     "user_tz": -390
    },
    "id": "focX0yIVFIGM"
   },
   "outputs": [],
   "source": [
    "X_train = np.float32(X_train)\n",
    "Y_train = np.array(Y_train)"
   ]
  },
  {
   "cell_type": "code",
   "execution_count": 10,
   "metadata": {
    "colab": {
     "base_uri": "https://localhost:8080/"
    },
    "executionInfo": {
     "elapsed": 31,
     "status": "ok",
     "timestamp": 1656419223054,
     "user": {
      "displayName": "Con_Vision project",
      "userId": "00870930556789176399"
     },
     "user_tz": -390
    },
    "id": "YuBr2WM-FUr4",
    "outputId": "7a644b91-cf7c-4738-ce8b-7de21903e923"
   },
   "outputs": [
    {
     "name": "stdout",
     "output_type": "stream",
     "text": [
      "[[  0.   0.   0. ...   0.   0.   0.]\n",
      " [  0.   0.   0. ...   0.   0.   0.]\n",
      " [  0.   0.   0. ... 255.   0.   0.]\n",
      " ...\n",
      " [  0.   0.   0. ...   0.   0.   0.]\n",
      " [  0.   0.   0. ...   0.   0.   0.]\n",
      " [  0.   0.   0. ...   0.   0.   0.]]\n",
      "(8520, 57600)\n",
      "float32\n",
      "[1 1 1 ... 0 0 0]\n",
      "(8520,)\n",
      "int64\n"
     ]
    }
   ],
   "source": [
    "print(X_train)\n",
    "print(X_train.shape)\n",
    "print(X_train.dtype)\n",
    "print(Y_train)\n",
    "print(Y_train.shape) \n",
    "print(Y_train.dtype) "
   ]
  },
  {
   "cell_type": "markdown",
   "metadata": {
    "id": "DRshIszaFfv_"
   },
   "source": [
    "Validation Positive"
   ]
  },
  {
   "cell_type": "code",
   "execution_count": 11,
   "metadata": {
    "executionInfo": {
     "elapsed": 7000,
     "status": "ok",
     "timestamp": 1656419230039,
     "user": {
      "displayName": "Con_Vision project",
      "userId": "00870930556789176399"
     },
     "user_tz": -390
    },
    "id": "AcBDBUKDEqYu"
   },
   "outputs": [],
   "source": [
    "for filename in glob.glob(os.path.join(val_pos_path,\"*.png\")):\n",
    "    fd = cv2.imread(filename,0)\n",
    "    fd = cv2.resize(fd,(240,240))\n",
    "    fd=cv2.GaussianBlur(fd,(3,3),0,0)\n",
    "    fd = cv2.Canny(fd,50,150)\n",
    "    fd=fd.flatten()\n",
    "    X_val.append(fd)\n",
    "    Y_val.append(1)"
   ]
  },
  {
   "cell_type": "markdown",
   "metadata": {
    "id": "ur3RgiFzfu5N"
   },
   "source": [
    "Validation Negative"
   ]
  },
  {
   "cell_type": "code",
   "execution_count": 12,
   "metadata": {
    "executionInfo": {
     "elapsed": 7448,
     "status": "ok",
     "timestamp": 1656419237475,
     "user": {
      "displayName": "Con_Vision project",
      "userId": "00870930556789176399"
     },
     "user_tz": -390
    },
    "id": "sH9CiJHfEqSB"
   },
   "outputs": [],
   "source": [
    "for filename in glob.glob(os.path.join(val_neg_path,\"*.png\")):\n",
    "    fd = cv2.imread(filename,0)\n",
    "    fd = cv2.resize(fd,(240,240))\n",
    "    fd=cv2.GaussianBlur(fd,(3,3),0,0)\n",
    "    fd = cv2.Canny(fd,50,150)\n",
    "    fd=fd.flatten()\n",
    "    X_val.append(fd)\n",
    "    Y_val.append(0)"
   ]
  },
  {
   "cell_type": "code",
   "execution_count": 13,
   "metadata": {
    "executionInfo": {
     "elapsed": 30,
     "status": "ok",
     "timestamp": 1656419237477,
     "user": {
      "displayName": "Con_Vision project",
      "userId": "00870930556789176399"
     },
     "user_tz": -390
    },
    "id": "A4NMNuTiFpxS"
   },
   "outputs": [],
   "source": [
    "X_val = np.float32(X_val)\n",
    "Y_val = np.array(Y_val)"
   ]
  },
  {
   "cell_type": "code",
   "execution_count": 14,
   "metadata": {
    "colab": {
     "base_uri": "https://localhost:8080/"
    },
    "executionInfo": {
     "elapsed": 27,
     "status": "ok",
     "timestamp": 1656419237480,
     "user": {
      "displayName": "Con_Vision project",
      "userId": "00870930556789176399"
     },
     "user_tz": -390
    },
    "id": "ZKiYAIAKFpjv",
    "outputId": "b75caa8a-e3ae-41b1-a21e-def874b56923"
   },
   "outputs": [
    {
     "name": "stdout",
     "output_type": "stream",
     "text": [
      "[[  0.   0.   0. ... 255.   0.   0.]\n",
      " [  0.   0.   0. ...   0.   0.   0.]\n",
      " [  0.   0.   0. ...   0.   0.   0.]\n",
      " ...\n",
      " [  0.   0.   0. ...   0.   0.   0.]\n",
      " [  0.   0.   0. ...   0.   0.   0.]\n",
      " [  0.   0.   0. ...   0.   0.   0.]]\n",
      "(720, 57600)\n",
      "[1 1 1 1 1 1 1 1 1 1 1 1 1 1 1 1 1 1 1 1 1 1 1 1 1 1 1 1 1 1 1 1 1 1 1 1 1\n",
      " 1 1 1 1 1 1 1 1 1 1 1 1 1 1 1 1 1 1 1 1 1 1 1 1 1 1 1 1 1 1 1 1 1 1 1 1 1\n",
      " 1 1 1 1 1 1 1 1 1 1 1 1 1 1 1 1 1 1 1 1 1 1 1 1 1 1 1 1 1 1 1 1 1 1 1 1 1\n",
      " 1 1 1 1 1 1 1 1 1 1 1 1 1 1 1 1 1 1 1 1 1 1 1 1 1 1 1 1 1 1 1 1 1 1 1 1 1\n",
      " 1 1 1 1 1 1 1 1 1 1 1 1 1 1 1 1 1 1 1 1 1 1 1 1 1 1 1 1 1 1 1 1 1 1 1 1 1\n",
      " 1 1 1 1 1 1 1 1 1 1 1 1 1 1 1 1 1 1 1 1 1 1 1 1 1 1 1 1 1 1 1 1 1 1 1 1 1\n",
      " 1 1 1 1 1 1 1 1 1 1 1 1 1 1 1 1 1 1 1 1 1 1 1 1 1 1 1 1 1 1 1 1 1 1 1 1 1\n",
      " 1 1 1 1 1 1 1 1 1 1 1 1 1 1 1 1 1 1 1 1 1 1 1 1 1 1 1 1 1 1 1 1 1 1 1 1 1\n",
      " 1 1 1 1 1 1 1 1 1 1 1 1 1 1 1 1 1 1 1 1 1 1 1 1 1 1 1 1 1 1 1 1 1 1 1 1 1\n",
      " 1 1 1 1 1 1 1 1 1 1 1 1 1 1 1 1 1 1 1 1 1 1 1 1 1 1 1 0 0 0 0 0 0 0 0 0 0\n",
      " 0 0 0 0 0 0 0 0 0 0 0 0 0 0 0 0 0 0 0 0 0 0 0 0 0 0 0 0 0 0 0 0 0 0 0 0 0\n",
      " 0 0 0 0 0 0 0 0 0 0 0 0 0 0 0 0 0 0 0 0 0 0 0 0 0 0 0 0 0 0 0 0 0 0 0 0 0\n",
      " 0 0 0 0 0 0 0 0 0 0 0 0 0 0 0 0 0 0 0 0 0 0 0 0 0 0 0 0 0 0 0 0 0 0 0 0 0\n",
      " 0 0 0 0 0 0 0 0 0 0 0 0 0 0 0 0 0 0 0 0 0 0 0 0 0 0 0 0 0 0 0 0 0 0 0 0 0\n",
      " 0 0 0 0 0 0 0 0 0 0 0 0 0 0 0 0 0 0 0 0 0 0 0 0 0 0 0 0 0 0 0 0 0 0 0 0 0\n",
      " 0 0 0 0 0 0 0 0 0 0 0 0 0 0 0 0 0 0 0 0 0 0 0 0 0 0 0 0 0 0 0 0 0 0 0 0 0\n",
      " 0 0 0 0 0 0 0 0 0 0 0 0 0 0 0 0 0 0 0 0 0 0 0 0 0 0 0 0 0 0 0 0 0 0 0 0 0\n",
      " 0 0 0 0 0 0 0 0 0 0 0 0 0 0 0 0 0 0 0 0 0 0 0 0 0 0 0 0 0 0 0 0 0 0 0 0 0\n",
      " 0 0 0 0 0 0 0 0 0 0 0 0 0 0 0 0 0 0 0 0 0 0 0 0 0 0 0 0 0 0 0 0 0 0 0 0 0\n",
      " 0 0 0 0 0 0 0 0 0 0 0 0 0 0 0 0 0]\n",
      "(720,)\n"
     ]
    }
   ],
   "source": [
    "print(X_val)\n",
    "print(X_val.shape)\n",
    "print(Y_val)\n",
    "print(Y_val.shape)  "
   ]
  },
  {
   "cell_type": "markdown",
   "metadata": {
    "id": "RE2hG0A4GIqd"
   },
   "source": [
    "Test Positive "
   ]
  },
  {
   "cell_type": "code",
   "execution_count": 15,
   "metadata": {
    "executionInfo": {
     "elapsed": 3746,
     "status": "ok",
     "timestamp": 1656419241205,
     "user": {
      "displayName": "Con_Vision project",
      "userId": "00870930556789176399"
     },
     "user_tz": -390
    },
    "id": "eL2JQiWyEqMk"
   },
   "outputs": [],
   "source": [
    "for filename in glob.glob(os.path.join(test_pos_path,\"*.png\")):\n",
    "    fd = cv2.imread(filename,0)\n",
    "    fd = cv2.resize(fd,(240,240))\n",
    "    fd=cv2.GaussianBlur(fd,(3,3),0,0)\n",
    "    fd = cv2.Canny(fd,50,150)\n",
    "    fd=fd.flatten()\n",
    "    X_test.append(fd)\n",
    "    Y_test.append(1)"
   ]
  },
  {
   "cell_type": "markdown",
   "metadata": {
    "id": "cdO5ZSPGGEqJ"
   },
   "source": [
    "Test Negative"
   ]
  },
  {
   "cell_type": "code",
   "execution_count": 16,
   "metadata": {
    "executionInfo": {
     "elapsed": 23929,
     "status": "ok",
     "timestamp": 1656419265116,
     "user": {
      "displayName": "Con_Vision project",
      "userId": "00870930556789176399"
     },
     "user_tz": -390
    },
    "id": "tHNs05xgEqGE"
   },
   "outputs": [],
   "source": [
    "for filename in glob.glob(os.path.join(test_neg_path,\"*.png\")):\n",
    "    fd = cv2.imread(filename,0)\n",
    "    fd = cv2.resize(fd,(240,240))\n",
    "    fd=cv2.GaussianBlur(fd,(3,3),0,0)\n",
    "    fd = cv2.Canny(fd,50,150)\n",
    "    fd=fd.flatten()\n",
    "    X_test.append(fd)\n",
    "    Y_test.append(0)"
   ]
  },
  {
   "cell_type": "code",
   "execution_count": 17,
   "metadata": {
    "executionInfo": {
     "elapsed": 50,
     "status": "ok",
     "timestamp": 1656419265120,
     "user": {
      "displayName": "Con_Vision project",
      "userId": "00870930556789176399"
     },
     "user_tz": -390
    },
    "id": "eNnzHxshGLf9"
   },
   "outputs": [],
   "source": [
    "X_test = np.float32(X_test)\n",
    "Y_test = np.array(Y_test)"
   ]
  },
  {
   "cell_type": "code",
   "execution_count": 18,
   "metadata": {
    "colab": {
     "base_uri": "https://localhost:8080/"
    },
    "executionInfo": {
     "elapsed": 35,
     "status": "ok",
     "timestamp": 1656419265123,
     "user": {
      "displayName": "Con_Vision project",
      "userId": "00870930556789176399"
     },
     "user_tz": -390
    },
    "id": "mCRy8-a1GMMX",
    "outputId": "2ba13e35-81f0-423c-c487-4bd61e240f3b"
   },
   "outputs": [
    {
     "name": "stdout",
     "output_type": "stream",
     "text": [
      "[[0. 0. 0. ... 0. 0. 0.]\n",
      " [0. 0. 0. ... 0. 0. 0.]\n",
      " [0. 0. 0. ... 0. 0. 0.]\n",
      " ...\n",
      " [0. 0. 0. ... 0. 0. 0.]\n",
      " [0. 0. 0. ... 0. 0. 0.]\n",
      " [0. 0. 0. ... 0. 0. 0.]]\n",
      "(878, 57600)\n",
      "[1 1 1 1 1 1 1 1 1 1 1 1 1 1 1 1 1 1 1 1 1 1 1 1 1 1 1 1 1 1 1 1 1 1 1 1 1\n",
      " 1 1 1 1 1 1 1 1 1 1 1 1 1 1 1 1 1 1 1 1 1 1 1 1 1 1 1 1 1 1 1 1 1 1 1 1 1\n",
      " 1 1 1 1 1 1 1 1 1 1 1 1 1 1 1 1 1 1 1 1 1 1 1 1 1 1 1 1 1 1 1 1 1 1 1 1 1\n",
      " 1 1 1 1 1 1 1 1 1 1 1 1 1 1 1 1 1 1 1 1 1 1 1 1 1 1 1 1 1 1 1 1 1 1 1 1 1\n",
      " 1 1 1 1 1 1 1 1 1 1 1 1 1 1 1 1 1 1 1 1 1 1 1 1 1 1 1 1 1 1 1 1 1 1 1 1 1\n",
      " 1 1 1 1 1 1 1 1 1 1 1 1 1 1 1 1 1 1 1 1 1 1 1 1 1 1 1 1 1 1 1 1 1 1 1 1 1\n",
      " 1 1 1 1 1 1 1 1 1 1 1 1 1 1 1 1 1 1 1 1 1 1 1 1 1 1 1 1 1 1 1 1 1 1 1 1 1\n",
      " 1 1 1 1 1 1 1 1 1 1 1 1 1 1 1 1 1 1 1 1 1 1 1 1 1 1 1 1 1 1 1 1 1 1 1 1 1\n",
      " 1 1 1 1 1 1 1 1 1 1 1 1 1 1 1 1 1 1 1 1 1 1 1 1 1 1 1 1 1 1 1 1 1 1 1 1 1\n",
      " 1 1 1 1 1 1 1 1 1 1 1 1 1 1 1 1 1 1 1 1 1 1 1 1 1 1 1 1 1 1 1 1 1 1 1 1 1\n",
      " 1 1 1 1 1 1 1 1 1 1 1 1 1 1 1 1 1 1 1 1 1 1 1 1 1 1 1 1 1 1 1 1 1 1 1 1 1\n",
      " 1 1 1 1 1 1 1 1 1 1 1 1 1 1 1 1 1 1 1 1 1 1 1 1 1 1 1 1 1 1 1 1 0 0 0 0 0\n",
      " 0 0 0 0 0 0 0 0 0 0 0 0 0 0 0 0 0 0 0 0 0 0 0 0 0 0 0 0 0 0 0 0 0 0 0 0 0\n",
      " 0 0 0 0 0 0 0 0 0 0 0 0 0 0 0 0 0 0 0 0 0 0 0 0 0 0 0 0 0 0 0 0 0 0 0 0 0\n",
      " 0 0 0 0 0 0 0 0 0 0 0 0 0 0 0 0 0 0 0 0 0 0 0 0 0 0 0 0 0 0 0 0 0 0 0 0 0\n",
      " 0 0 0 0 0 0 0 0 0 0 0 0 0 0 0 0 0 0 0 0 0 0 0 0 0 0 0 0 0 0 0 0 0 0 0 0 0\n",
      " 0 0 0 0 0 0 0 0 0 0 0 0 0 0 0 0 0 0 0 0 0 0 0 0 0 0 0 0 0 0 0 0 0 0 0 0 0\n",
      " 0 0 0 0 0 0 0 0 0 0 0 0 0 0 0 0 0 0 0 0 0 0 0 0 0 0 0 0 0 0 0 0 0 0 0 0 0\n",
      " 0 0 0 0 0 0 0 0 0 0 0 0 0 0 0 0 0 0 0 0 0 0 0 0 0 0 0 0 0 0 0 0 0 0 0 0 0\n",
      " 0 0 0 0 0 0 0 0 0 0 0 0 0 0 0 0 0 0 0 0 0 0 0 0 0 0 0 0 0 0 0 0 0 0 0 0 0\n",
      " 0 0 0 0 0 0 0 0 0 0 0 0 0 0 0 0 0 0 0 0 0 0 0 0 0 0 0 0 0 0 0 0 0 0 0 0 0\n",
      " 0 0 0 0 0 0 0 0 0 0 0 0 0 0 0 0 0 0 0 0 0 0 0 0 0 0 0 0 0 0 0 0 0 0 0 0 0\n",
      " 0 0 0 0 0 0 0 0 0 0 0 0 0 0 0 0 0 0 0 0 0 0 0 0 0 0 0 0 0 0 0 0 0 0 0 0 0\n",
      " 0 0 0 0 0 0 0 0 0 0 0 0 0 0 0 0 0 0 0 0 0 0 0 0 0 0 0]\n",
      "(878,)\n"
     ]
    }
   ],
   "source": [
    "print(X_test)\n",
    "print(X_test.shape)\n",
    "print(Y_test)\n",
    "print(Y_test.shape)  "
   ]
  },
  {
   "cell_type": "markdown",
   "metadata": {
    "id": "mcicDs2SG5HC"
   },
   "source": [
    "Random Forest Classifier"
   ]
  },
  {
   "cell_type": "code",
   "execution_count": 19,
   "metadata": {
    "executionInfo": {
     "elapsed": 88317,
     "status": "ok",
     "timestamp": 1656419353422,
     "user": {
      "displayName": "Con_Vision project",
      "userId": "00870930556789176399"
     },
     "user_tz": -390
    },
    "id": "dWiPfne2Gs74"
   },
   "outputs": [],
   "source": [
    "from sklearn.ensemble import RandomForestClassifier\n",
    "\n",
    "rf_model = RandomForestClassifier(n_estimators=100, n_jobs=1)\n",
    "rf_model.fit(X_train,Y_train)\n",
    "\n",
    "\n",
    "Y_pred = rf_model.predict(X_test)"
   ]
  },
  {
   "cell_type": "code",
   "execution_count": 20,
   "metadata": {
    "colab": {
     "base_uri": "https://localhost:8080/"
    },
    "executionInfo": {
     "elapsed": 35,
     "status": "ok",
     "timestamp": 1656419353424,
     "user": {
      "displayName": "Con_Vision project",
      "userId": "00870930556789176399"
     },
     "user_tz": -390
    },
    "id": "dunbxGjsGvuW",
    "outputId": "f3abe0f8-e7b2-4720-f5f0-d832fc4c9b19"
   },
   "outputs": [
    {
     "name": "stdout",
     "output_type": "stream",
     "text": [
      "              precision    recall  f1-score   support\n",
      "\n",
      "           0       0.93      0.84      0.88       439\n",
      "           1       0.85      0.93      0.89       439\n",
      "\n",
      "    accuracy                           0.89       878\n",
      "   macro avg       0.89      0.89      0.89       878\n",
      "weighted avg       0.89      0.89      0.89       878\n",
      "\n"
     ]
    }
   ],
   "source": [
    "from sklearn import metrics\n",
    "from sklearn.metrics import classification_report \n",
    "\n",
    "print(metrics.classification_report(Y_test, Y_pred))"
   ]
  },
  {
   "cell_type": "markdown",
   "metadata": {
    "id": "_XNNPR2MG8mq"
   },
   "source": [
    "Decision Tree Classifier"
   ]
  },
  {
   "cell_type": "code",
   "execution_count": 21,
   "metadata": {
    "executionInfo": {
     "elapsed": 331031,
     "status": "ok",
     "timestamp": 1656419684429,
     "user": {
      "displayName": "Con_Vision project",
      "userId": "00870930556789176399"
     },
     "user_tz": -390
    },
    "id": "2e1w23_2HBN3"
   },
   "outputs": [],
   "source": [
    "from sklearn.tree import DecisionTreeClassifier\n",
    "\n",
    "dt_model = DecisionTreeClassifier(random_state=0)\n",
    "dt_model.fit(X_train,Y_train)\n",
    "\n",
    "\n",
    "Y_pred = dt_model.predict(X_test)"
   ]
  },
  {
   "cell_type": "code",
   "execution_count": 22,
   "metadata": {
    "colab": {
     "base_uri": "https://localhost:8080/"
    },
    "executionInfo": {
     "elapsed": 22,
     "status": "ok",
     "timestamp": 1656419684432,
     "user": {
      "displayName": "Con_Vision project",
      "userId": "00870930556789176399"
     },
     "user_tz": -390
    },
    "id": "uquq7iGyHEXB",
    "outputId": "22aa13eb-a662-4696-d5f6-2858d4549587"
   },
   "outputs": [
    {
     "name": "stdout",
     "output_type": "stream",
     "text": [
      "              precision    recall  f1-score   support\n",
      "\n",
      "           0       0.78      0.81      0.79       439\n",
      "           1       0.80      0.77      0.79       439\n",
      "\n",
      "    accuracy                           0.79       878\n",
      "   macro avg       0.79      0.79      0.79       878\n",
      "weighted avg       0.79      0.79      0.79       878\n",
      "\n"
     ]
    }
   ],
   "source": [
    "from sklearn import metrics\n",
    "from sklearn.metrics import classification_report \n",
    "\n",
    "print(metrics.classification_report(Y_test, Y_pred))"
   ]
  },
  {
   "cell_type": "markdown",
   "metadata": {
    "id": "SA3-f58lHIgo"
   },
   "source": [
    "KNeighbors Classifier"
   ]
  },
  {
   "cell_type": "code",
   "execution_count": 23,
   "metadata": {
    "executionInfo": {
     "elapsed": 793624,
     "status": "ok",
     "timestamp": 1656420478039,
     "user": {
      "displayName": "Con_Vision project",
      "userId": "00870930556789176399"
     },
     "user_tz": -390
    },
    "id": "VyWUW5WDHHj_"
   },
   "outputs": [],
   "source": [
    "from sklearn.neighbors import KNeighborsClassifier\n",
    "error = []\n",
    "best_k = dict()\n",
    "\n",
    "\n",
    "for i in range(1, 20):\n",
    "    knn = KNeighborsClassifier(n_neighbors=i, n_jobs=-1)\n",
    "    knn.fit(X_train, Y_train)\n",
    "    pred_i = knn.predict(X_test)\n",
    "    error.append(np.mean(pred_i != Y_test))\n",
    "    best_k[i] = np.mean(pred_i != Y_test)\n",
    "    \n",
    "best_k = sorted(best_k.items(), key=lambda k: k[1])[0][0]\n",
    "knn_classifier = KNeighborsClassifier(n_neighbors=best_k, n_jobs=-1)\n",
    "knn_classifier.fit(X_train, Y_train)\n",
    "y_pred = knn_classifier.predict(X_test)"
   ]
  },
  {
   "cell_type": "code",
   "execution_count": 24,
   "metadata": {
    "colab": {
     "base_uri": "https://localhost:8080/"
    },
    "executionInfo": {
     "elapsed": 40,
     "status": "ok",
     "timestamp": 1656420478043,
     "user": {
      "displayName": "Con_Vision project",
      "userId": "00870930556789176399"
     },
     "user_tz": -390
    },
    "id": "8Z2WBWMhzzjU",
    "outputId": "c338e248-cac9-4a2e-cef4-8d3d972bb9e5"
   },
   "outputs": [
    {
     "data": {
      "text/plain": [
       "1"
      ]
     },
     "execution_count": 24,
     "metadata": {},
     "output_type": "execute_result"
    }
   ],
   "source": [
    "best_k"
   ]
  },
  {
   "cell_type": "code",
   "execution_count": 25,
   "metadata": {
    "colab": {
     "base_uri": "https://localhost:8080/",
     "height": 404
    },
    "executionInfo": {
     "elapsed": 34,
     "status": "ok",
     "timestamp": 1656420478045,
     "user": {
      "displayName": "Con_Vision project",
      "userId": "00870930556789176399"
     },
     "user_tz": -390
    },
    "id": "WXuaaJd_y4cv",
    "outputId": "08e07402-73ec-4e6e-f37c-4278e6b5bda5"
   },
   "outputs": [
    {
     "data": {
      "image/png": "[encoded data removed]",
      "text/plain": [
       "<Figure size 864x432 with 1 Axes>"
      ]
     },
     "metadata": {
      "needs_background": "light"
     },
     "output_type": "display_data"
    }
   ],
   "source": [
    "plt.figure(figsize=(12, 6))\n",
    "plt.plot(range(1, 20), error, color='red', linestyle='dashdot', marker='o',markerfacecolor='green', markersize=10)\n",
    "plt.title('Error Rate K Value')\n",
    "plt.xlabel('K Value')\n",
    "plt.ylabel('Mean Error')\n",
    "plt.show()"
   ]
  },
  {
   "cell_type": "code",
   "execution_count": 26,
   "metadata": {
    "colab": {
     "base_uri": "https://localhost:8080/"
    },
    "executionInfo": {
     "elapsed": 29,
     "status": "ok",
     "timestamp": 1656420478048,
     "user": {
      "displayName": "Con_Vision project",
      "userId": "00870930556789176399"
     },
     "user_tz": -390
    },
    "id": "Eth-hmIXHO64",
    "outputId": "2ff732d2-ca31-4902-cb6a-1902789d66ce"
   },
   "outputs": [
    {
     "name": "stdout",
     "output_type": "stream",
     "text": [
      "              precision    recall  f1-score   support\n",
      "\n",
      "           0       0.50      0.02      0.04       439\n",
      "           1       0.50      0.98      0.66       439\n",
      "\n",
      "    accuracy                           0.50       878\n",
      "   macro avg       0.50      0.50      0.35       878\n",
      "weighted avg       0.50      0.50      0.35       878\n",
      "\n"
     ]
    }
   ],
   "source": [
    "from sklearn import metrics\n",
    "from sklearn.metrics import classification_report \n",
    "\n",
    "print(metrics.classification_report(Y_test, y_pred))"
   ]
  },
  {
   "cell_type": "markdown",
   "metadata": {
    "id": "PxqRiAwuyBfu"
   },
   "source": [
    "LOgistic Regression\n"
   ]
  },
  {
   "cell_type": "code",
   "execution_count": 27,
   "metadata": {
    "colab": {
     "base_uri": "https://localhost:8080/"
    },
    "executionInfo": {
     "elapsed": 110401,
     "status": "ok",
     "timestamp": 1656420588427,
     "user": {
      "displayName": "Con_Vision project",
      "userId": "00870930556789176399"
     },
     "user_tz": -390
    },
    "id": "_DRe3cQHyBPW",
    "outputId": "20ce0362-ce50-4a5e-f6fd-8f9377d4a8f6"
   },
   "outputs": [
    {
     "name": "stderr",
     "output_type": "stream",
     "text": [
      "/usr/local/lib/python3.7/dist-packages/sklearn/linear_model/_logistic.py:818: ConvergenceWarning: lbfgs failed to converge (status=1):\n",
      "STOP: TOTAL NO. of ITERATIONS REACHED LIMIT.\n",
      "\n",
      "Increase the number of iterations (max_iter) or scale the data as shown in:\n",
      "    https://scikit-learn.org/stable/modules/preprocessing.html\n",
      "Please also refer to the documentation for alternative solver options:\n",
      "    https://scikit-learn.org/stable/modules/linear_model.html#logistic-regression\n",
      "  extra_warning_msg=_LOGISTIC_SOLVER_CONVERGENCE_MSG,\n"
     ]
    },
    {
     "data": {
      "text/plain": [
       "LogisticRegression()"
      ]
     },
     "execution_count": 27,
     "metadata": {},
     "output_type": "execute_result"
    }
   ],
   "source": [
    "from sklearn.linear_model import LogisticRegression\n",
    "\n",
    "logisticRegr = LogisticRegression()\n",
    "\n",
    "logisticRegr.fit(X_train, Y_train)"
   ]
  },
  {
   "cell_type": "code",
   "execution_count": 28,
   "metadata": {
    "executionInfo": {
     "elapsed": 45,
     "status": "ok",
     "timestamp": 1656420588430,
     "user": {
      "displayName": "Con_Vision project",
      "userId": "00870930556789176399"
     },
     "user_tz": -390
    },
    "id": "yHfVOgCUyG-f"
   },
   "outputs": [],
   "source": [
    "Y_pred = logisticRegr.predict(X_test)"
   ]
  },
  {
   "cell_type": "code",
   "execution_count": 29,
   "metadata": {
    "colab": {
     "base_uri": "https://localhost:8080/"
    },
    "executionInfo": {
     "elapsed": 38,
     "status": "ok",
     "timestamp": 1656420588432,
     "user": {
      "displayName": "Con_Vision project",
      "userId": "00870930556789176399"
     },
     "user_tz": -390
    },
    "id": "guJQ8Cs0yL-p",
    "outputId": "28571463-aadb-4d2b-8495-ded9419a7011"
   },
   "outputs": [
    {
     "name": "stdout",
     "output_type": "stream",
     "text": [
      "              precision    recall  f1-score   support\n",
      "\n",
      "           0       0.91      0.91      0.91       439\n",
      "           1       0.91      0.91      0.91       439\n",
      "\n",
      "    accuracy                           0.91       878\n",
      "   macro avg       0.91      0.91      0.91       878\n",
      "weighted avg       0.91      0.91      0.91       878\n",
      "\n"
     ]
    }
   ],
   "source": [
    "from sklearn import metrics\n",
    "from sklearn.metrics import classification_report \n",
    "\n",
    "print(metrics.classification_report(Y_test, Y_pred))"
   ]
  },
  {
   "cell_type": "code",
   "execution_count": 32,
   "metadata": {
    "executionInfo": {
     "elapsed": 8,
     "status": "ok",
     "timestamp": 1656420589857,
     "user": {
      "displayName": "Con_Vision project",
      "userId": "00870930556789176399"
     },
     "user_tz": -390
    },
    "id": "tv-e1LP91Qz4"
   },
   "outputs": [],
   "source": [
    "from pypmml import Model\n",
    "from sklearn2pmml import sklearn2pmml\n",
    "from sklearn2pmml.pipeline import PMMLPipeline\n",
    "from sklearn.linear_model import LogisticRegression\n",
    "\n",
    "X, Y = logisticRegr(return_X_y=True)\n",
    "\n",
    "pipeline = PMMLPipeline([\n",
    "\t(\"logistic_regression\", LogisticRegression())\n",
    "])\n",
    "pipeline.fit(X_train, Y_train)\n",
    "\n",
    "sklearn2pmml(pipeline, \"logistic_regression.xml\", with_repr = True)"
   ]
  },
  {
   "cell_type": "code",
   "execution_count": 33,
   "metadata": {
    "colab": {
     "base_uri": "https://localhost:8080/"
    },
    "executionInfo": {
     "elapsed": 373,
     "status": "ok",
     "timestamp": 1656420717363,
     "user": {
      "displayName": "Con_Vision project",
      "userId": "00870930556789176399"
     },
     "user_tz": -390
    },
    "id": "8r_TeyhyXWtk",
    "outputId": "51f59ff8-d1c5-4bdb-d015-dc92794fac3a"
   },
   "outputs": [
    {
     "name": "stdout",
     "output_type": "stream",
     "text": [
      "Model saved : models.dat\n"
     ]
    }
   ],
   "source": [
    "import joblib\n",
    "joblib.dump(logisticRegr, 'models.dat')\n",
    "print('Model saved : {}'.format('models.dat'))"
   ]
  },
  {
   "cell_type": "code",
   "execution_count": null,
   "metadata": {
    "id": "dD7Q7IZpXk5N"
   },
   "outputs": [],
   "source": []
  }
 ],
 "metadata": {
  "colab": {
   "authorship_tag": "ABX9TyPTIBcssKBCeM2/UHUr09vf",
   "collapsed_sections": [],
   "name": "Face Mask.ipynb",
   "provenance": []
  },
  "gpuClass": "standard",
  "kernelspec": {
   "display_name": "Python 3 (ipykernel)",
   "language": "python",
   "name": "python3"
  },
  "language_info": {
   "codemirror_mode": {
    "name": "ipython",
    "version": 3
   },
   "file_extension": ".py",
   "mimetype": "text/x-python",
   "name": "python",
   "nbconvert_exporter": "python",
   "pygments_lexer": "ipython3",
   "version": "3.9.12"
  }
 },
 "nbformat": 4,
 "nbformat_minor": 1
}
